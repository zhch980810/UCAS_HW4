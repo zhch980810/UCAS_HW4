{
 "cells": [
  {
   "cell_type": "code",
   "execution_count": 1,
   "metadata": {
    "colab": {
     "base_uri": "https://localhost:8080/"
    },
    "id": "j18QYwO7ymsu",
    "outputId": "397fda4f-14e1-498e-ab9b-052a658c53ad"
   },
   "outputs": [
    {
     "name": "stdout",
     "output_type": "stream",
     "text": [
      "Mounted at /content/drive\n"
     ]
    }
   ],
   "source": [
    "import os\n",
    "import numpy as np\n",
    "import torch\n",
    "import torch.nn as nn\n",
    "from torch.utils.data import random_split, DataLoader,Dataset\n",
    "import re\n",
    "import torch.nn.functional as F\n",
    "from torch.nn.utils.rnn import pad_sequence,pack_padded_sequence,pad_packed_sequence\n",
    "from google.colab import drive\n",
    "drive.mount('/content/drive')"
   ]
  },
  {
   "cell_type": "code",
   "execution_count": 2,
   "metadata": {
    "colab": {
     "base_uri": "https://localhost:8080/"
    },
    "id": "aRvjryFe3e1d",
    "outputId": "926024af-e96c-4ede-e758-d86d2ebf6a89"
   },
   "outputs": [
    {
     "name": "stdout",
     "output_type": "stream",
     "text": [
      "Collecting gensim==4.0.1\n",
      "\u001b[?25l  Downloading https://files.pythonhosted.org/packages/44/52/f1417772965652d4ca6f901515debcd9d6c5430969e8c02ee7737e6de61c/gensim-4.0.1-cp37-cp37m-manylinux1_x86_64.whl (23.9MB)\n",
      "\u001b[K     |████████████████████████████████| 23.9MB 127kB/s \n",
      "\u001b[?25hRequirement already satisfied: scipy>=0.18.1 in /usr/local/lib/python3.7/dist-packages (from gensim==4.0.1) (1.4.1)\n",
      "Requirement already satisfied: smart-open>=1.8.1 in /usr/local/lib/python3.7/dist-packages (from gensim==4.0.1) (5.1.0)\n",
      "Requirement already satisfied: numpy>=1.11.3 in /usr/local/lib/python3.7/dist-packages (from gensim==4.0.1) (1.19.5)\n",
      "Installing collected packages: gensim\n",
      "  Found existing installation: gensim 3.6.0\n",
      "    Uninstalling gensim-3.6.0:\n",
      "      Successfully uninstalled gensim-3.6.0\n",
      "Successfully installed gensim-4.0.1\n"
     ]
    }
   ],
   "source": [
    "pip install gensim==4.0.1\n"
   ]
  },
  {
   "cell_type": "code",
   "execution_count": 3,
   "metadata": {
    "colab": {
     "base_uri": "https://localhost:8080/"
    },
    "id": "tQ3G1fLc4SDi",
    "outputId": "cecaef5c-4470-4933-9fec-5f9e7565a75e"
   },
   "outputs": [
    {
     "name": "stderr",
     "output_type": "stream",
     "text": [
      "/usr/local/lib/python3.7/dist-packages/gensim/similarities/__init__.py:15: UserWarning: The gensim.similarities.levenshtein submodule is disabled, because the optional Levenshtein package <https://pypi.org/project/python-Levenshtein/> is unavailable. Install Levenhstein (e.g. `pip install python-Levenshtein`) to suppress this warning.\n",
      "  warnings.warn(msg)\n"
     ]
    }
   ],
   "source": [
    "import gensim"
   ]
  },
  {
   "cell_type": "code",
   "execution_count": 4,
   "metadata": {
    "id": "0hcKzP3M2AY9"
   },
   "outputs": [],
   "source": [
    "word2vec_model=gensim.models.keyedvectors.load_word2vec_format('drive/MyDrive/Comment/wiki_word2vec_50.bin',binary=True)\n",
    "\n",
    "words=[]\n",
    "with open('drive/MyDrive/Comment/train.txt','r',encoding='UTF-8') as f:\n",
    "    lines=f.readlines()\n",
    "    for line in lines:\n",
    "        line_words = re.split(r'[\\s]', line)[1:-1]\n",
    "        for w in line_words:\n",
    "                words.append(w)\n",
    "\n",
    "words=sorted(set(words))#words是新的词表 ,需要word2ix,ix2word,和ix2vector\n",
    "word2ix={w:i+1 for i,w in enumerate(words)}\n",
    "ix2word={i+1:w for i ,w in enumerate(words)}\n",
    "word2ix['UNK']=0\n",
    "ix2word[0]='UNK'"
   ]
  },
  {
   "cell_type": "code",
   "execution_count": 5,
   "metadata": {
    "id": "oFAy--5l2LhB"
   },
   "outputs": [],
   "source": [
    "class MyComment2(Dataset):\n",
    "    def __init__(self,path,word2ix):\n",
    "        self.word2ix=word2ix\n",
    "        self.labels=[]\n",
    "        self.comments=[]\n",
    "        with open(path,'r',encoding='UTF-8') as f:\n",
    "            lines=f.readlines()\n",
    "        for line in lines:\n",
    "            line=re.split(r'[\\s]',line)\n",
    "            self.labels.append(int(line[0]))\n",
    "            comment=line[1:-1]\n",
    "            comment_dig=[]\n",
    "            for i in comment:\n",
    "                try:\n",
    "                    comment_dig.append(word2ix[i])\n",
    "                except KeyError:\n",
    "                    comment_dig.append(0)\n",
    "            self.comments.append(torch.tensor(comment_dig,dtype=torch.int64))\n",
    "    \n",
    "    def __len__(self):\n",
    "        return len(self.labels)\n",
    "    \n",
    "    def __getitem__(self,num):\n",
    "        return self.comments[num],self.labels[num]\n",
    "    \n",
    "#精加工，返回的是补齐的tensor格式，comment和lengths进lstm\n",
    "def mycollate_fn(batch):\n",
    "    batch.sort(key=lambda x:len(x[0]),reverse=True)\n",
    "    lengths=[len(i[0]) for i in batch]\n",
    "    labels=torch.tensor([i[1] for i in batch],dtype=torch.long)\n",
    "    comment=[i[0] for i in batch]\n",
    "    comment=pad_sequence(comment,batch_first=True,padding_value=0)\n",
    "    return comment,lengths,labels\n",
    "\n",
    "    \n",
    "    \n",
    "train_ds=MyComment2(path='drive/MyDrive/Comment/train.txt',word2ix=word2ix)\n",
    "train_loader=DataLoader(train_ds,40,shuffle=True,collate_fn=mycollate_fn)\n",
    "\n",
    "val_ds=MyComment2(path='drive/MyDrive/Comment/validation.txt',word2ix=word2ix)\n",
    "val_loader=DataLoader(val_ds,40,shuffle=True,collate_fn=mycollate_fn)\n",
    "test_ds=MyComment2(path='drive/MyDrive/Comment/test.txt',word2ix=word2ix)\n",
    "test_loader=DataLoader(test_ds,40,shuffle=True,collate_fn=mycollate_fn)\n"
   ]
  },
  {
   "cell_type": "code",
   "execution_count": 6,
   "metadata": {
    "colab": {
     "base_uri": "https://localhost:8080/"
    },
    "id": "mibdDHYG2Xoh",
    "outputId": "487c7fee-4140-40ce-aed7-512999303673"
   },
   "outputs": [
    {
     "name": "stdout",
     "output_type": "stream",
     "text": [
      "53338\n"
     ]
    }
   ],
   "source": [
    "print(len(word2ix))\n",
    "#ix-->WORD-->word2vec_model.key_to_index[...]-->model.getvector(.)\n",
    "#没有的词初始化为0向量\n",
    "my_weight=[]\n",
    "for i in range(len(word2ix)):\n",
    "    word=ix2word[i]\n",
    "    try:\n",
    "        index=word2vec_model.key_to_index[word]\n",
    "        my_weight.append(torch.tensor(word2vec_model.get_vector(index)))\n",
    "    except KeyError:\n",
    "        my_weight.append(torch.zeros(50))\n",
    "my_weight=torch.stack(my_weight)"
   ]
  },
  {
   "cell_type": "code",
   "execution_count": 42,
   "metadata": {
    "id": "V00RNKrg2cB8"
   },
   "outputs": [],
   "source": [
    "def Confuse(outputs, labels):\n",
    "    #测试阶段使用，训练完成后在test.txt上运行\n",
    "    #（positive和negative是指预测）（Ture和False是指判断的正误）\n",
    "    _, preds = torch.max(outputs, dim=1)\n",
    "    confuse_matrix=np.zeros((2,2))\n",
    "    for i in range(len(preds)):\n",
    "        confuse_matrix[preds[i].item(),labels[i].item()]+=1\n",
    "    #（0，0）：TN，（0，1）：pred=0，label=1 FN\n",
    "    #（1，0）：pred=1，label=0，FP，（1，1）：TP\n",
    "    return confuse_matrix\n",
    "\n",
    "\n",
    "def accuracy(outputs, labels):\n",
    "    _, preds = torch.max(outputs, dim=1)\n",
    "    return torch.tensor(torch.sum(preds == labels).item() / len(preds))\n",
    "\n",
    "class FeelingCatcher(nn.Module):\n",
    "            \n",
    "    def __init__(self,hid_dim,n_layers, renew ,length_change, who):\n",
    "        super(FeelingCatcher,self).__init__()\n",
    "        \n",
    "        if who!='hidden'and who!='output' and who!='output_last':\n",
    "            print('who是指用谁进行判断，请在hidden，output，output_last中做选择')\n",
    "            return -1\n",
    "        \n",
    "        self.embedding=nn.Embedding.from_pretrained(my_weight)\n",
    "        self.embedding.requires_grad_=renew  #决定是否学习新的词向量\n",
    "        \n",
    "        self.lstm=nn.LSTM(50,hid_dim,n_layers,batch_first=True,dropout=0.2)\n",
    "        #lstm——hidden——【batchsize，hid_dim,n_layers】\n",
    "        #lstm----outputs----[batchsize,seq_len,hid_dim]\n",
    "        \n",
    "        self.dropout=nn.Dropout(0.5)\n",
    "        self.fc1=nn.Linear(hid_dim,256)\n",
    "        self.fc2=nn.Linear(256,64)\n",
    "        self.fc3=nn.Linear(64,2)\n",
    "        \n",
    "        self.length_change=length_change# 是否接受不定长输入\n",
    "        self.who=who #选谁判断\n",
    "\n",
    "        \n",
    "    def forward(self,comments,lengths):\n",
    "        out=self.embedding(comments)\n",
    "        \n",
    "        if self.length_change:\n",
    "            out=pack_padded_sequence(out,lengths,batch_first=True)\n",
    "            out,hidden=self.lstm(out)  #hidden[n_layers,batchsize,,hidden]\n",
    "            out=pad_packed_sequence(out,batch_first=True)[0] #[batch,seq_len,hidden_dim]\n",
    "        else:\n",
    "            out,hidden=self.lstm(out)\n",
    "            \n",
    "        if self.who=='output_last':\n",
    "            out=out[:,-1,:]   #[batch,hidden_dim]\n",
    "\n",
    "        if self.who=='output':\n",
    "            out=torch.sum(out,dim=1)/out.shape[1]\n",
    "\n",
    "        if self.who=='hidden':\n",
    "            out=hidden[1][-1,:,:]\n",
    "            \n",
    "            \n",
    "        out=self.dropout(torch.tanh(self.fc1(out)))\n",
    "        out=self.dropout(torch.tanh(self.fc2(out)))\n",
    "\n",
    "        out=self.fc3(out)\n",
    "        \n",
    "        return out   #[batch,2]\n",
    "    \n",
    "    \n",
    "    def step(self, batch, device):  #返回一个batch的loss和acc\n",
    "        comments, lengths, labels = batch\n",
    "        comments=comments.to(device)\n",
    "        labels=labels.to(device)\n",
    "        \n",
    "        out = self(comments,lengths)\n",
    "        loss = F.cross_entropy(out, labels)\n",
    "        acc = accuracy(out, labels)\n",
    "        return {'loss': loss, 'acc': acc}\n",
    "    \n",
    "        \n",
    "    def evaluate(self, loader,device):     #打包评价这轮valloader中loss和acc的平均值\n",
    "        outputs = [self.step(batch,device) for batch in loader]\n",
    "        losses = [x['loss'] for x in outputs]\n",
    "        losses = torch.stack(losses).mean()\n",
    "        accs = [x['acc'] for x in outputs]\n",
    "        accs = torch.stack(accs).mean()\n",
    "        return {'loss': losses.item(), 'acc': accs.item()}\n",
    "\n",
    "    \n",
    "    def epoch_end(self, epoch, train_loss,result):  #打印训练，测试上的loss，acc\n",
    "        print(\"Epoch [{}], train_loss: {:.4f}, val_loss: {:.4f}, val_acc: {:.4f}\".format(\n",
    "            epoch, train_loss, result['loss'], result['acc']))\n",
    "\n",
    "def test(model,loader):\n",
    "  model.eval()\n",
    "  with torch.no_grad():\n",
    "    loss=0.0\n",
    "    confuse=np.zeros((2,2))\n",
    "    for batch in loader:\n",
    "        comments,lengths,labels=batch\n",
    "        comments=comments.to(device)\n",
    "        labels=labels.to(device)\n",
    "        out=model(comments,lengths)\n",
    "        loss+=F.cross_entropy(out,labels)\n",
    "        confuse+=Confuse(out, labels)\n",
    "    return loss, confuse\n",
    "\n",
    "def eva_test(confuse):\n",
    "    #（0，0）：TN，（0，1）：pred=0，label=1 FN\n",
    "    #（1，0）：pred=1，label=0，FP，（1，1）：TP\n",
    "    TP=confuse[1,1]\n",
    "    TN=confuse[0,0]\n",
    "    FP=confuse[1,0]\n",
    "    FN=confuse[0,1]\n",
    "    precise=TP/(FP+TP)\n",
    "    recall=TP/(TP+FN)\n",
    "    F1=2*precise*recall/(precise+recall)\n",
    "    return precise,recall,F1"
   ]
  },
  {
   "cell_type": "code",
   "execution_count": 43,
   "metadata": {
    "id": "Rna3W20W2fOl"
   },
   "outputs": [],
   "source": [
    "def fit(epochs, max_lr, model, train_loader, val_loader, grad_clip=None, opt_func=torch.optim.Adam,device='cpu'):\n",
    "    \n",
    "    history_train = []\n",
    "    history_val=[]\n",
    "    optimizer = opt_func(model.parameters(), max_lr,weight_decay = 1e-4)\n",
    "    sched = torch.optim.lr_scheduler.OneCycleLR(optimizer, max_lr, epochs=epochs, steps_per_epoch=len(train_loader))\n",
    "    \n",
    "    for epoch in range(epochs):\n",
    "        model.train()\n",
    "        \n",
    "        for batch in train_loader:\n",
    "            loss = model.step(batch,device)['loss']\n",
    "            loss.backward()\n",
    "            if grad_clip: \n",
    "                nn.utils.clip_grad_value_(model.parameters(), grad_clip)\n",
    "            optimizer.step()\n",
    "            optimizer.zero_grad()\n",
    "            sched.step()\n",
    "            \n",
    "        model.eval()\n",
    "        with torch.no_grad():\n",
    "            result = model.evaluate( val_loader,device)\n",
    "            model.epoch_end(epoch,loss.item(),result)\n",
    "            \n",
    "            history_train.append(loss.item())\n",
    "            history_val.append(result['loss'])\n",
    "            \n",
    "    return history_train,history_val"
   ]
  },
  {
   "cell_type": "code",
   "execution_count": 37,
   "metadata": {
    "colab": {
     "base_uri": "https://localhost:8080/",
     "height": 739
    },
    "id": "OowbxdT02hq3",
    "outputId": "71cfd4f1-f81b-41e1-b1ff-b8ae384c98c8"
   },
   "outputs": [
    {
     "name": "stdout",
     "output_type": "stream",
     "text": [
      "Epoch [0], train_loss: 0.4352, val_loss: 0.5367, val_acc: 0.7411\n",
      "Epoch [1], train_loss: 0.4829, val_loss: 0.6024, val_acc: 0.6892\n",
      "Epoch [2], train_loss: 0.5662, val_loss: 0.4752, val_acc: 0.7809\n",
      "Epoch [3], train_loss: 0.6151, val_loss: 0.4661, val_acc: 0.7809\n",
      "Epoch [4], train_loss: 0.4323, val_loss: 0.4489, val_acc: 0.7957\n",
      "Epoch [5], train_loss: 0.5466, val_loss: 0.4797, val_acc: 0.7847\n",
      "Epoch [6], train_loss: 0.2321, val_loss: 0.4298, val_acc: 0.8048\n",
      "Epoch [7], train_loss: 0.5750, val_loss: 0.4257, val_acc: 0.8076\n",
      "Epoch [8], train_loss: 0.2060, val_loss: 0.4239, val_acc: 0.8091\n",
      "Epoch [9], train_loss: 0.5303, val_loss: 0.4170, val_acc: 0.8132\n",
      "Epoch [10], train_loss: 0.4892, val_loss: 0.4164, val_acc: 0.8160\n",
      "Epoch [11], train_loss: 0.3209, val_loss: 0.4177, val_acc: 0.8140\n",
      "Epoch [0], train_loss: 0.6004, val_loss: 0.5186, val_acc: 0.7457\n",
      "Epoch [1], train_loss: 0.5067, val_loss: 0.4972, val_acc: 0.7626\n",
      "Epoch [2], train_loss: 0.5315, val_loss: 0.4956, val_acc: 0.7759\n",
      "Epoch [3], train_loss: 0.3672, val_loss: 0.5402, val_acc: 0.7420\n",
      "Epoch [4], train_loss: 0.4245, val_loss: 0.4442, val_acc: 0.7955\n",
      "Epoch [5], train_loss: 0.5003, val_loss: 0.4346, val_acc: 0.7968\n",
      "Epoch [6], train_loss: 0.4709, val_loss: 0.4341, val_acc: 0.8011\n",
      "Epoch [7], train_loss: 0.3823, val_loss: 0.4280, val_acc: 0.8095\n",
      "Epoch [8], train_loss: 0.3659, val_loss: 0.4204, val_acc: 0.8123\n",
      "Epoch [9], train_loss: 0.3528, val_loss: 0.4182, val_acc: 0.8118\n",
      "Epoch [10], train_loss: 0.3498, val_loss: 0.4162, val_acc: 0.8173\n",
      "Epoch [11], train_loss: 0.3307, val_loss: 0.4189, val_acc: 0.8165\n"
     ]
    },
    {
     "data": {
      "text/plain": [
       "Text(0.5, 1.0, 'valloss vs. epoch')"
      ]
     },
     "execution_count": 37,
     "metadata": {
      "tags": []
     },
     "output_type": "execute_result"
    },
    {
     "data": {
      "image/png": "[encoded data removed]",
      "text/plain": [
       "<Figure size 432x288 with 1 Axes>"
      ]
     },
     "metadata": {
      "needs_background": "light",
      "tags": []
     },
     "output_type": "display_data"
    }
   ],
   "source": [
    "import matplotlib.pyplot as plt\n",
    "device=torch.device('cuda' if torch.cuda.is_available() else 'cpu')\n",
    "\n",
    "\n",
    "model_1=FeelingCatcher(128,3,renew=False,length_change=True,who='output').to(device)\n",
    "model_2=FeelingCatcher(128,3,renew=True,length_change=True,who='output').to(device)\n",
    "\n",
    "history_train_1,history_val_1=fit(12,0.001,model_1,train_loader,val_loader,device=device)\n",
    "history_train_2,history_val_2=fit(12,0.001,model_2,train_loader,val_loader,device=device)\n",
    "\n",
    "\n",
    "plt.plot(history_val_1)\n",
    "plt.plot(history_val_2)\n",
    "plt.legend(['renew=False','renew=True'])\n",
    "plt.xlabel('epoch')\n",
    "plt.ylabel('valloss')\n",
    "plt.title('valloss vs. epoch')"
   ]
  },
  {
   "cell_type": "code",
   "execution_count": 38,
   "metadata": {
    "colab": {
     "base_uri": "https://localhost:8080/",
     "height": 739
    },
    "id": "_ePGL3gOk8-N",
    "outputId": "9ab26968-d04b-4dcc-dab9-921dc2b3ef74"
   },
   "outputs": [
    {
     "name": "stdout",
     "output_type": "stream",
     "text": [
      "Epoch [0], train_loss: 0.7168, val_loss: 0.5109, val_acc: 0.7543\n",
      "Epoch [1], train_loss: 0.4298, val_loss: 0.5090, val_acc: 0.7477\n",
      "Epoch [2], train_loss: 0.4295, val_loss: 0.5093, val_acc: 0.7507\n",
      "Epoch [3], train_loss: 0.4430, val_loss: 0.4552, val_acc: 0.7890\n",
      "Epoch [4], train_loss: 0.5836, val_loss: 0.4524, val_acc: 0.7913\n",
      "Epoch [5], train_loss: 0.6910, val_loss: 0.4610, val_acc: 0.7840\n",
      "Epoch [6], train_loss: 0.3923, val_loss: 0.4891, val_acc: 0.7863\n",
      "Epoch [7], train_loss: 0.3031, val_loss: 0.4258, val_acc: 0.8043\n",
      "Epoch [8], train_loss: 0.4046, val_loss: 0.4330, val_acc: 0.8095\n",
      "Epoch [9], train_loss: 0.3202, val_loss: 0.4189, val_acc: 0.8115\n",
      "Epoch [10], train_loss: 0.4432, val_loss: 0.4150, val_acc: 0.8138\n",
      "Epoch [11], train_loss: 0.2990, val_loss: 0.4151, val_acc: 0.8131\n",
      "Epoch [0], train_loss: 0.4368, val_loss: 0.5395, val_acc: 0.7322\n",
      "Epoch [1], train_loss: 0.4607, val_loss: 0.4989, val_acc: 0.7575\n",
      "Epoch [2], train_loss: 0.5301, val_loss: 0.4869, val_acc: 0.7703\n",
      "Epoch [3], train_loss: 0.6784, val_loss: 0.4665, val_acc: 0.7822\n",
      "Epoch [4], train_loss: 0.6438, val_loss: 0.4628, val_acc: 0.7898\n",
      "Epoch [5], train_loss: 0.5122, val_loss: 0.4385, val_acc: 0.8008\n",
      "Epoch [6], train_loss: 0.4205, val_loss: 0.4245, val_acc: 0.8084\n",
      "Epoch [7], train_loss: 0.2344, val_loss: 0.4318, val_acc: 0.8039\n",
      "Epoch [8], train_loss: 0.5682, val_loss: 0.4209, val_acc: 0.8131\n",
      "Epoch [9], train_loss: 0.4482, val_loss: 0.4236, val_acc: 0.8135\n",
      "Epoch [10], train_loss: 0.3876, val_loss: 0.4182, val_acc: 0.8155\n",
      "Epoch [11], train_loss: 0.4499, val_loss: 0.4160, val_acc: 0.8147\n"
     ]
    },
    {
     "data": {
      "text/plain": [
       "Text(0.5, 1.0, 'valloss vs. epoch')"
      ]
     },
     "execution_count": 38,
     "metadata": {
      "tags": []
     },
     "output_type": "execute_result"
    },
    {
     "data": {
      "image/png": "[encoded data removed]",
      "text/plain": [
       "<Figure size 432x288 with 1 Axes>"
      ]
     },
     "metadata": {
      "needs_background": "light",
      "tags": []
     },
     "output_type": "display_data"
    }
   ],
   "source": [
    "model_1=FeelingCatcher(128,3,renew=False,length_change=False,who='output').to(device)\n",
    "model_2=FeelingCatcher(128,3,renew=False,length_change=True,who='output').to(device)\n",
    "\n",
    "history_train_1,history_val_1=fit(12,0.001,model_1,train_loader,val_loader,device=device)\n",
    "history_train_2,history_val_2=fit(12,0.001,model_2,train_loader,val_loader,device=device)\n",
    "\n",
    "plt.plot(history_val_1)\n",
    "plt.plot(history_val_2)\n",
    "plt.legend(['length_change=False','length_change=True'])\n",
    "plt.xlabel('epoch')\n",
    "plt.ylabel('valloss')\n",
    "plt.title('valloss vs. epoch')"
   ]
  },
  {
   "cell_type": "code",
   "execution_count": 39,
   "metadata": {
    "colab": {
     "base_uri": "https://localhost:8080/",
     "height": 952
    },
    "id": "nBNWqgL6iJby",
    "outputId": "4752dfb3-2fb9-4d98-fd37-b449f2bef6d7"
   },
   "outputs": [
    {
     "name": "stdout",
     "output_type": "stream",
     "text": [
      "Epoch [0], train_loss: 0.5085, val_loss: 0.5281, val_acc: 0.7392\n",
      "Epoch [1], train_loss: 0.5670, val_loss: 0.5085, val_acc: 0.7556\n",
      "Epoch [2], train_loss: 0.4904, val_loss: 0.4773, val_acc: 0.7726\n",
      "Epoch [3], train_loss: 0.4631, val_loss: 0.4802, val_acc: 0.7734\n",
      "Epoch [4], train_loss: 0.3372, val_loss: 0.4559, val_acc: 0.7907\n",
      "Epoch [5], train_loss: 0.6674, val_loss: 0.4497, val_acc: 0.7941\n",
      "Epoch [6], train_loss: 0.5103, val_loss: 0.4423, val_acc: 0.8022\n",
      "Epoch [7], train_loss: 0.4925, val_loss: 0.4330, val_acc: 0.8044\n",
      "Epoch [8], train_loss: 0.5161, val_loss: 0.4286, val_acc: 0.8083\n",
      "Epoch [9], train_loss: 0.2414, val_loss: 0.4235, val_acc: 0.8110\n",
      "Epoch [10], train_loss: 0.4038, val_loss: 0.4212, val_acc: 0.8115\n",
      "Epoch [11], train_loss: 0.3766, val_loss: 0.4223, val_acc: 0.8094\n",
      "Epoch [0], train_loss: 0.6901, val_loss: 0.6936, val_acc: 0.5006\n",
      "Epoch [1], train_loss: 0.6931, val_loss: 0.6932, val_acc: 0.5000\n",
      "Epoch [2], train_loss: 0.6970, val_loss: 0.6943, val_acc: 0.5005\n",
      "Epoch [3], train_loss: 0.6907, val_loss: 0.6938, val_acc: 0.4981\n",
      "Epoch [4], train_loss: 0.6956, val_loss: 0.6932, val_acc: 0.5002\n",
      "Epoch [5], train_loss: 0.6968, val_loss: 0.6932, val_acc: 0.5005\n",
      "Epoch [6], train_loss: 0.6950, val_loss: 0.6932, val_acc: 0.4988\n",
      "Epoch [7], train_loss: 0.6937, val_loss: 0.6934, val_acc: 0.5023\n",
      "Epoch [8], train_loss: 0.7008, val_loss: 0.6933, val_acc: 0.4984\n",
      "Epoch [9], train_loss: 0.6985, val_loss: 0.6931, val_acc: 0.5000\n",
      "Epoch [10], train_loss: 0.6918, val_loss: 0.6932, val_acc: 0.5001\n",
      "Epoch [11], train_loss: 0.6925, val_loss: 0.6931, val_acc: 0.5005\n",
      "Epoch [0], train_loss: 0.5385, val_loss: 0.5145, val_acc: 0.7515\n",
      "Epoch [1], train_loss: 0.3800, val_loss: 0.4892, val_acc: 0.7621\n",
      "Epoch [2], train_loss: 0.5767, val_loss: 0.5723, val_acc: 0.7011\n",
      "Epoch [3], train_loss: 0.5570, val_loss: 0.4626, val_acc: 0.7821\n",
      "Epoch [4], train_loss: 0.5379, val_loss: 0.4769, val_acc: 0.7793\n",
      "Epoch [5], train_loss: 0.5892, val_loss: 0.4551, val_acc: 0.7869\n",
      "Epoch [6], train_loss: 0.3401, val_loss: 0.4646, val_acc: 0.7849\n",
      "Epoch [7], train_loss: 0.5103, val_loss: 0.4276, val_acc: 0.8052\n",
      "Epoch [8], train_loss: 0.4282, val_loss: 0.4302, val_acc: 0.8045\n",
      "Epoch [9], train_loss: 0.4110, val_loss: 0.4175, val_acc: 0.8129\n",
      "Epoch [10], train_loss: 0.4341, val_loss: 0.4155, val_acc: 0.8156\n",
      "Epoch [11], train_loss: 0.3213, val_loss: 0.4175, val_acc: 0.8148\n"
     ]
    },
    {
     "data": {
      "text/plain": [
       "Text(0.5, 1.0, 'valloss vs. epoch')"
      ]
     },
     "execution_count": 39,
     "metadata": {
      "tags": []
     },
     "output_type": "execute_result"
    },
    {
     "data": {
      "image/png": "[encoded data removed]",
      "text/plain": [
       "<Figure size 432x288 with 1 Axes>"
      ]
     },
     "metadata": {
      "needs_background": "light",
      "tags": []
     },
     "output_type": "display_data"
    }
   ],
   "source": [
    "model_1=FeelingCatcher(128,3,renew=True,length_change=True,who='output').to(device)\n",
    "model_2=FeelingCatcher(128,3,renew=True,length_change=True,who='output_last').to(device)\n",
    "model_3=FeelingCatcher(128,3,renew=True,length_change=True,who='hidden').to(device)\n",
    "\n",
    "history_train_1,history_val_1=fit(12,0.001,model_1,train_loader,val_loader,device=device)\n",
    "history_train_2,history_val_2=fit(12,0.001,model_2,train_loader,val_loader,device=device)\n",
    "history_train_3,history_val_3=fit(12,0.001,model_3,train_loader,val_loader,device=device)\n",
    "\n",
    "plt.plot(history_val_1)\n",
    "plt.plot(history_val_2)\n",
    "plt.plot(history_val_3)\n",
    "plt.legend(['who=output','who=output_last','who=hidden'])\n",
    "plt.xlabel('epoch')\n",
    "plt.ylabel('valloss')\n",
    "plt.title('valloss vs. epoch')"
   ]
  },
  {
   "cell_type": "code",
   "execution_count": 47,
   "metadata": {
    "colab": {
     "base_uri": "https://localhost:8080/"
    },
    "id": "4L5eZhZYxoPJ",
    "outputId": "e666521b-2032-4ebd-cae8-811b6e3a2d0f"
   },
   "outputs": [
    {
     "name": "stdout",
     "output_type": "stream",
     "text": [
      "精确率： 0.8346883468834688 \n",
      "  准确率: 0.8705882352941177 \n",
      " 召回率: 0.7914438502673797 \n",
      " F1分数: 0.8291316526610645\n"
     ]
    }
   ],
   "source": [
    "def eva_test(confuse):\n",
    "    #（0，0）：TN，（0，1）：pred=0，label=1 FN\n",
    "    #（1，0）：pred=1，label=0，FP，（1，1）：TP\n",
    "    TP=confuse[1,1]\n",
    "    TN=confuse[0,0]\n",
    "    FP=confuse[1,0]\n",
    "    FN=confuse[0,1]\n",
    "    precise=TP/(FP+TP)\n",
    "    recall=TP/(TP+FN)\n",
    "    F1=2*precise*recall/(precise+recall)\n",
    "    acc=(TP+TN)/(TN+TP+FN+FP)\n",
    "    return precise,recall,F1,acc\n",
    "\n",
    "loss,confuse_matrix=test(model_1,test_loader)\n",
    "precise,recall,F1,acc=eva_test(confuse_matrix)\n",
    "print('精确率：',acc,'\\n',' 准确率:',precise,'\\n','召回率:',recall,'\\n','F1分数:',F1)"
   ]
  },
  {
   "cell_type": "code",
   "execution_count": null,
   "metadata": {},
   "outputs": [],
   "source": [
    "import jieba\n",
    "\n",
    "def predict(x,path='comment.pth'):\n",
    "    comment=x.split('，')\n",
    "    seg=[' '.join(jieba.cut(i,cut_all=False)) for i in comment]\n",
    "    num_seg=[]\n",
    "    for i in seg:\n",
    "        j=i.split(' ')\n",
    "        for l in j:\n",
    "            try:\n",
    "                num_seg.append(word2ix[l])\n",
    "            except KeyError:\n",
    "                num_seg.append(0)\n",
    "    num_seg=torch.tensor(num_seg)\n",
    "    num_seg=num_seg.unsqueeze(0)\n",
    "    seg_len=[num_seg.size()[1]]\n",
    "\n",
    "    device=torch.device('cuda' if torch.cuda.is_available() else 'cpu')\n",
    "    model=FeelingCatcher(128,3,renew=True,length_change=True,who='output_last').to(device)\n",
    "    model.load_state_dict(torch.load(path,map_location='cpu'))\n",
    "\n",
    "    pred=torch.argmax(model(num_seg,seg_len))\n",
    "    if pred:\n",
    "        print(x,'\\n','是差评55555')\n",
    "    else:\n",
    "        print(x,'\\n','是好评！')"
   ]
  },
  {
   "cell_type": "code",
   "execution_count": null,
   "metadata": {},
   "outputs": [],
   "source": [
    "predict('整部片子全是变态。一个不良少女，一个弱智杀手，一个丧心病狂的警察。我怎么会看这么毁三观的片子。')\n",
    "print('------------------------------------------------------------------------')\n",
    "predict('里昂只有一颗盆栽，不善言辞，爱喝牛奶。他不像，却真正是一个杀手。玛蒂达的到来，是包袱，也给里昂带来了生机。不过这种设定，注定是悲剧收场。里昂死后，玛蒂达将他盆栽的种子落地生根，里昂终于不再每日拿着手枪在椅子上不安地入睡，他落地了。娜塔莉波特曼太灵了，玛蒂达是如此特别。')"
   ]
  }
 ],
 "metadata": {
  "colab": {
   "collapsed_sections": [],
   "name": "Untitled4.ipynb",
   "provenance": []
  },
  "kernelspec": {
   "display_name": "Python 3",
   "language": "python",
   "name": "python3"
  },
  "language_info": {
   "codemirror_mode": {
    "name": "ipython",
    "version": 3
   },
   "file_extension": ".py",
   "mimetype": "text/x-python",
   "name": "python",
   "nbconvert_exporter": "python",
   "pygments_lexer": "ipython3",
   "version": "3.8.5"
  }
 },
 "nbformat": 4,
 "nbformat_minor": 1
}
